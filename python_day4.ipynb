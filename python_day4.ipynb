{
  "nbformat": 4,
  "nbformat_minor": 0,
  "metadata": {
    "colab": {
      "provenance": [],
      "authorship_tag": "ABX9TyOZI1koovG+tA30nRpurzUU",
      "include_colab_link": true
    },
    "kernelspec": {
      "name": "python3",
      "display_name": "Python 3"
    },
    "language_info": {
      "name": "python"
    }
  },
  "cells": [
    {
      "cell_type": "markdown",
      "metadata": {
        "id": "view-in-github",
        "colab_type": "text"
      },
      "source": [
        "<a href=\"https://colab.research.google.com/github/n-prathyusha82/Codesoft_internship/blob/main/python_day4.ipynb\" target=\"_parent\"><img src=\"https://colab.research.google.com/assets/colab-badge.svg\" alt=\"Open In Colab\"/></a>"
      ]
    },
    {
      "cell_type": "markdown",
      "source": [
        "**1.Given an array arr[] and an integer K is smaller than size of array, the task is to find Kth smallest element in the given array.It is given that all array elements are distinct. Note: l and r denotes the starting and ending index of the array.ex-1:N=6, arr[] = 7 10 4 3 20 15, k = 3, o/p:7, explanation: 3rd smallest element in the given array is 7.**"
      ],
      "metadata": {
        "id": "qMHUp__J4zcX"
      }
    },
    {
      "cell_type": "code",
      "source": [
        "def smallestarray(arr, k):\n",
        "  arr.sort()\n",
        "  return arr[k - 1]\n",
        "arr = [7, 10, 4, 3, 20, 15]\n",
        "k = 3\n",
        "print(smallestarray(arr, k))\n"
      ],
      "metadata": {
        "colab": {
          "base_uri": "https://localhost:8080/"
        },
        "id": "Pe35X-AX46_2",
        "outputId": "c7248c17-4be4-445c-f4c1-de44f29b65cb"
      },
      "execution_count": 2,
      "outputs": [
        {
          "output_type": "stream",
          "name": "stdout",
          "text": [
            "7\n"
          ]
        }
      ]
    },
    {
      "cell_type": "markdown",
      "source": [
        "**2.Given a non-empty array of integers nums, every element appears twice except for one.Find that single one.You must implement a solution with a linear runtime complexity and use only constant extra space. ex-1: i/p: nums = [2,2,1],o/p:1, ex-2: i/p: nums = [4,1,2,1,2],o/p:4,ex-3:i/p: nums = [1],o/p: 1**"
      ],
      "metadata": {
        "id": "DxVgKWYs5UYj"
      }
    },
    {
      "cell_type": "code",
      "source": [
        "def singleNumber(nums):\n",
        "  result = 0\n",
        "  for num in nums:\n",
        "    result ^= num\n",
        "  return result\n",
        "nums = [2, 2, 1]\n",
        "print(singleNumber(nums))"
      ],
      "metadata": {
        "colab": {
          "base_uri": "https://localhost:8080/"
        },
        "id": "MxLUgCpp5dZM",
        "outputId": "e5219c0c-1e50-40b1-ab60-279916a6f1fa"
      },
      "execution_count": 7,
      "outputs": [
        {
          "output_type": "stream",
          "name": "stdout",
          "text": [
            "1\n"
          ]
        }
      ]
    },
    {
      "cell_type": "markdown",
      "source": [
        "**3..Given an array of integers nums and an integer target, return indices of the two numbers such that they odd up to target.You may assume that each input would have exactly one solution, and you may not use the same element twice. You can return the answer in any order.ex1: i/p: nums = [2,7,11,15], target = 9,o/p: [0,1],explanation:Because nums[0] + nums[1] == 9, we return [0,1].**"
      ],
      "metadata": {
        "id": "Tr6gHtpE7wx5"
      }
    },
    {
      "cell_type": "code",
      "source": [
        "def two_number(nums, target):\n",
        "  for i in range(len(nums)):\n",
        "    for j in range(i + 1, len(nums)):\n",
        "      if nums[i] + nums[j] == target:\n",
        "        return [i, j]\n",
        "nums = [3, 2, 4]\n",
        "target = 5\n",
        "print(two_number(nums, target))"
      ],
      "metadata": {
        "colab": {
          "base_uri": "https://localhost:8080/"
        },
        "id": "NFRerOy671d1",
        "outputId": "cedd348f-8767-4313-9556-7bf690b2cb42"
      },
      "execution_count": 8,
      "outputs": [
        {
          "output_type": "stream",
          "name": "stdout",
          "text": [
            "[0, 1]\n"
          ]
        }
      ]
    },
    {
      "cell_type": "markdown",
      "source": [
        "**4.Given an unsorted array arr[] of size N having both negative and positive integers.The task is place all negative element at the end of array without changing the order of positive element and negative element.ex1: i/p: n = 8,arr[] = {1,-1,3,2,-7,-5,11,6}, o/p: 1 3 2 11 6 -1 -7 -5**"
      ],
      "metadata": {
        "id": "pL4uQJY877em"
      }
    },
    {
      "cell_type": "code",
      "source": [
        "def rearrange(arr):\n",
        "    pos = [x for x in arr if x >= 0]\n",
        "    neg = [x for x in arr if x < 0]\n",
        "    return pos + neg\n",
        "arr = [1, -1, 3, 2, -7, -5, 11, 6]\n",
        "result = rearrange(arr)\n",
        "print(result)"
      ],
      "metadata": {
        "colab": {
          "base_uri": "https://localhost:8080/"
        },
        "id": "OHc_4HJk7-Nk",
        "outputId": "63cf669c-406c-4f42-90ce-1028b9e10cdf"
      },
      "execution_count": 9,
      "outputs": [
        {
          "output_type": "stream",
          "name": "stdout",
          "text": [
            "[1, 3, 2, 11, 6, -1, -7, -5]\n"
          ]
        }
      ]
    }
  ]
}